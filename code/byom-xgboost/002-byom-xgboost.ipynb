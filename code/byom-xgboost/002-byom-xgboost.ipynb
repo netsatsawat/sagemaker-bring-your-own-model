{
 "cells": [
  {
   "cell_type": "markdown",
   "id": "453f9756-c402-4f95-b2f5-e547b9752477",
   "metadata": {},
   "source": [
    "# Deploy trained XGBoost model to SageMaker Endpoint\n",
    "---\n",
    "\n",
    "This second notebook is to demonstrate on how to build **inference script** and host the **trained model** on SageMaker endpoint. I will utilize the *real-time* endpoint for this demonstration.\n",
    "\n",
    "<div class=\"alert alert-block alert-info\">\n",
    "    This notebook has been tested and run on <b>Python 3 (Data Science 2.0)</b> kernel and on <b>ml.t3.medium</b> instance type.\n",
    "</div>"
   ]
  },
  {
   "cell_type": "markdown",
   "id": "9e671758-c618-4011-b7a8-2d51ecdb1bbe",
   "metadata": {},
   "source": [
    "## Setup"
   ]
  },
  {
   "cell_type": "code",
   "execution_count": 2,
   "id": "7899774f-47ba-474e-925a-cc26ecc12d01",
   "metadata": {
    "tags": []
   },
   "outputs": [
    {
     "name": "stdout",
     "output_type": "stream",
     "text": [
      "\u001b[33mDEPRECATION: pyodbc 4.0.0-unsupported has a non-standard version number. pip 23.3 will enforce this behaviour change. A possible replacement is to upgrade to a newer version of pyodbc or contact the author to suggest that they release a version with a conforming version number. Discussion can be found at https://github.com/pypa/pip/issues/12063\u001b[0m\u001b[33m\n",
      "\u001b[0m\u001b[31mERROR: pip's dependency resolver does not currently take into account all the packages that are installed. This behaviour is the source of the following dependency conflicts.\n",
      "awscli 1.27.153 requires botocore==1.29.153, but you have botocore 1.31.18 which is incompatible.\n",
      "awscli 1.27.153 requires PyYAML<5.5,>=3.10, but you have pyyaml 6.0.1 which is incompatible.\u001b[0m\u001b[31m\n",
      "\u001b[0m\u001b[33mWARNING: Running pip as the 'root' user can result in broken permissions and conflicting behaviour with the system package manager. It is recommended to use a virtual environment instead: https://pip.pypa.io/warnings/venv\u001b[0m\u001b[33m\n",
      "\u001b[0m\u001b[33mDEPRECATION: pyodbc 4.0.0-unsupported has a non-standard version number. pip 23.3 will enforce this behaviour change. A possible replacement is to upgrade to a newer version of pyodbc or contact the author to suggest that they release a version with a conforming version number. Discussion can be found at https://github.com/pypa/pip/issues/12063\u001b[0m\u001b[33m\n",
      "\u001b[0m\u001b[33mWARNING: Running pip as the 'root' user can result in broken permissions and conflicting behaviour with the system package manager. It is recommended to use a virtual environment instead: https://pip.pypa.io/warnings/venv\u001b[0m\u001b[33m\n",
      "\u001b[0m"
     ]
    }
   ],
   "source": [
    "!pip install --upgrade pip sagemaker boto3 xgboost --quiet\n",
    "!pip install pyxlsb --quiet"
   ]
  },
  {
   "cell_type": "code",
   "execution_count": 3,
   "id": "5168cb75-b6b1-4c5c-a7be-d587c75f08d0",
   "metadata": {
    "tags": []
   },
   "outputs": [
    {
     "name": "stderr",
     "output_type": "stream",
     "text": [
      "02:43:10 INFO:sagemaker => 2.174.0\n",
      "02:43:10 INFO:boto3 => 1.28.18\n",
      "02:43:10 INFO:xgboost => 1.7.6\n"
     ]
    }
   ],
   "source": [
    "import xgboost as xgb\n",
    "import logging\n",
    "import sagemaker\n",
    "import boto3 \n",
    "\n",
    "# define the logger\n",
    "logger = logging.getLogger()\n",
    "logging.basicConfig(format='%(asctime)s %(levelname)s:%(message)s', level=logging.INFO, datefmt='%I:%M:%S')\n",
    "logger.setLevel(logging.INFO)\n",
    "\n",
    "# version checking\n",
    "logger.info(f'sagemaker => {sagemaker.__version__}')\n",
    "logger.info(f'boto3 => {boto3.__version__}')\n",
    "logger.info(f'xgboost => {xgb.__version__}')"
   ]
  },
  {
   "cell_type": "markdown",
   "id": "5b78ffde-1bb8-4e44-a78c-ace37582a9fb",
   "metadata": {},
   "source": [
    "Define some parameters"
   ]
  },
  {
   "cell_type": "code",
   "execution_count": 4,
   "id": "4e6f6349-e076-4f27-9830-96dd860c8fa6",
   "metadata": {
    "tags": []
   },
   "outputs": [],
   "source": [
    "REGION = boto3.Session().region_name\n",
    "ROLE = sagemaker.get_execution_role()\n",
    "sess = sagemaker.Session()\n",
    "BUCKET_NM = sess.default_bucket()  # Set this to your own bucket name\n",
    "PREFIX = 'byom/xgboost-model/'"
   ]
  },
  {
   "cell_type": "markdown",
   "id": "5acc4412-28ff-45ad-b367-8defeb721e8b",
   "metadata": {},
   "source": [
    "## Deploy to SageMaker\n",
    "---\n",
    "\n",
    "Prior to deployment, I will specify the entry point for the data and the model.\n",
    "\n",
    "Generally, we need to specify **model_fn**, **input_fn**, **predict_fn**, and **output_fn** within the `inference.py`. Alternatively, we can specify **transform_fn** to replace input_fn, predict_fn, and output_fn.\n"
   ]
  },
  {
   "cell_type": "code",
   "execution_count": 5,
   "id": "114129c8-65fc-4625-acc0-3f88070a7e63",
   "metadata": {
    "tags": []
   },
   "outputs": [
    {
     "name": "stdout",
     "output_type": "stream",
     "text": [
      "Overwriting code/inference.py\n"
     ]
    }
   ],
   "source": [
    "%%writefile code/inference.py\n",
    "import json\n",
    "from json import JSONEncoder\n",
    "import os\n",
    "import pickle as pkl\n",
    "import numpy as np\n",
    "import sagemaker_xgboost_container.encoder as xgb_encoders\n",
    "import boto3\n",
    "import pandas as pd\n",
    "from io import StringIO\n",
    "\n",
    "class NumpyArrayEncoder(JSONEncoder):\n",
    "    def default(self, obj):\n",
    "        if isinstance(obj, np.ndarray):\n",
    "            return obj.tolist()\n",
    "\n",
    "        return JSONEncoder.default(self, obj)\n",
    "\n",
    "\n",
    "def model_fn(model_dir):\n",
    "    \"\"\"\n",
    "    Deserialize and return fitted model.\n",
    "    \"\"\"\n",
    "    model_file = \"banking_loan_classifier.pkl\"\n",
    "    print('--- model_fn() ---')\n",
    "    print(f'model dir => {model_dir}')\n",
    "    print(f'mode file => {model_file}')\n",
    "    booster = pkl.load(open(os.path.join(model_dir, model_file), \"rb\"))\n",
    "    return booster\n",
    "\n",
    "\n",
    "def transform_fn(model, request_body, content_type, accept_type):\n",
    "    print('--- transform_fn() ---')\n",
    "    print(f'content_type => {content_type}')\n",
    "    print(f'accept_type => {accept_type}')\n",
    "    print('--- Convert the input data type to dataframe ---\\n')\n",
    "    \n",
    "    data = StringIO(request_body)\n",
    "    cols = ['ID', 'A', 'B', 'C', 'D', 'E', 'F', 'G', 'H', 'I', 'J', 'K', 'L', 'M', \n",
    "            'N', 'O', 'P', 'Q', 'R', 'S', 'T', 'U', 'V', 'W', 'X', 'MARKER']\n",
    "    _req_body = pd.read_csv(data, sep=\",\", header=None)\n",
    "    _req_body.columns = cols\n",
    "    print(f'The initial input shape => {_req_body.shape}')\n",
    "    \n",
    "    print('--- Input Transformation ---\\n')\n",
    "    _req_body.drop(['ID', 'MARKER'], axis=1, inplace=True)  # drop ID, and target\n",
    "    _req_body.drop(['B', 'E', 'F'], axis=1, inplace=True)  # drop from correlation\n",
    "    _req_body.rename(columns={'I': 'Sex'}, inplace=True)\n",
    "    _req_body.rename(columns={'K': 'Region'}, inplace=True)\n",
    "    _req_body.rename(columns={'M': 'Job_title'}, inplace=True)\n",
    "    _req_body.rename(columns={'N': 'Education'}, inplace=True)\n",
    "    _req_body.rename(columns={'O': 'Marriage'}, inplace=True)\n",
    "    _req_body.rename(columns={'P': 'Children'}, inplace=True)\n",
    "    _req_body.rename(columns={'Q': 'Property'}, inplace=True)\n",
    "    _req_body.rename(columns={'S': 'Employment_status'}, inplace=True)\n",
    "    _req_body = pd.get_dummies(_req_body, drop_first=True)\n",
    "    print(f'The final input shape => {_req_body.shape}')\n",
    "\n",
    "    print('--- Model Prediction ---\\n')\n",
    "    pred = model.predict(_req_body)\n",
    "    print(f'Sample prediction => {pred[:5]}')\n",
    "    print(f'Data type of prediction => {type(pred)}')\n",
    "    \n",
    "    _data = {'predictions': pred}  # we can enhance this by predict_proba and pass it in the JSON as well\n",
    "    _out = json.dumps(_data, cls=NumpyArrayEncoder)\n",
    "    return _out"
   ]
  },
  {
   "cell_type": "code",
   "execution_count": 6,
   "id": "3dfa505f-3943-45ba-bac7-cb40a5158117",
   "metadata": {
    "tags": []
   },
   "outputs": [
    {
     "name": "stdout",
     "output_type": "stream",
     "text": [
      "banking_loan_classifier.pkl\n",
      "code/inference.py\n"
     ]
    }
   ],
   "source": [
    "!rm -f model.tar.gz\n",
    "!tar -czvf model.tar.gz banking_loan_classifier.pkl code/inference.py"
   ]
  },
  {
   "cell_type": "markdown",
   "id": "663472ae-2671-43ff-a515-13680941f6b4",
   "metadata": {},
   "source": [
    "Upload the model tarball with entry point `inference.py` to Amazon S3 bucket."
   ]
  },
  {
   "cell_type": "code",
   "execution_count": 7,
   "id": "60c4a101-c59e-4f65-919e-ebe0afd2b6fc",
   "metadata": {
    "tags": []
   },
   "outputs": [
    {
     "name": "stderr",
     "output_type": "stream",
     "text": [
      "02:43:11 INFO:byom/xgboost-model/model.tar.gz\n"
     ]
    }
   ],
   "source": [
    "import boto3\n",
    "import os \n",
    "\n",
    "BUCKET_NM = 'ml-ai-demo-th'\n",
    "PREFIX = 'byom/xgboost-model'\n",
    "obj = open(\"model.tar.gz\", \"rb\")\n",
    "key = os.path.join(PREFIX, \"model.tar.gz\")\n",
    "logger.info(key)\n",
    "boto3.Session().resource(\"s3\").Bucket(BUCKET_NM).Object(key).upload_fileobj(obj)"
   ]
  },
  {
   "cell_type": "code",
   "execution_count": 8,
   "id": "7efb2cf3-c9a6-4776-9192-7eaa1ee9d604",
   "metadata": {
    "tags": []
   },
   "outputs": [
    {
     "name": "stderr",
     "output_type": "stream",
     "text": [
      "02:43:11 INFO:s3://ml-ai-demo-th/byom/xgboost-model/model.tar.gz\n"
     ]
    }
   ],
   "source": [
    "from sagemaker.xgboost.model import XGBoostModel\n",
    "\n",
    "model_data = f's3://{BUCKET_NM}/{key}'\n",
    "logger.info(model_data)\n",
    "\n",
    "# Create model object before deploying\n",
    "trained_xgb = XGBoostModel(\n",
    "    model_data=model_data,\n",
    "    role=ROLE,\n",
    "    entry_point=\"code/inference.py\",\n",
    "    framework_version=\"1.7-1\",\n",
    ")"
   ]
  },
  {
   "cell_type": "code",
   "execution_count": 9,
   "id": "e297d699-e70f-42dc-832c-796e446b8d80",
   "metadata": {
    "tags": []
   },
   "outputs": [
    {
     "name": "stderr",
     "output_type": "stream",
     "text": [
      "02:43:11 INFO:Ignoring unnecessary instance type: ml.c5.xlarge.\n",
      "02:43:12 INFO:Creating model with name: sagemaker-xgboost-2023-08-03-14-43-12-245\n",
      "02:43:12 INFO:Creating endpoint-config with name sagemaker-xgboost-2023-08-03-14-43-12-889\n",
      "02:43:13 INFO:Creating endpoint with name sagemaker-xgboost-2023-08-03-14-43-12-889\n"
     ]
    },
    {
     "name": "stdout",
     "output_type": "stream",
     "text": [
      "----!"
     ]
    }
   ],
   "source": [
    "from sagemaker.serializers import CSVSerializer\n",
    "from sagemaker.deserializers import JSONDeserializer\n",
    "\n",
    "predictor = trained_xgb.deploy(\n",
    "    initial_instance_count=1,\n",
    "    instance_type=\"ml.c5.xlarge\",\n",
    "    serializer=CSVSerializer(),\n",
    "    deserializer=JSONDeserializer(),\n",
    ")"
   ]
  },
  {
   "cell_type": "markdown",
   "id": "bed319c1-959b-4a0c-8a20-1840aac474a0",
   "metadata": {},
   "source": [
    "## Validate the endpoint\n",
    "---\n",
    "\n",
    "To validate the endpoint, I will use the same `Test.xlsb` file and send it to the **real-time** endpoint from previous step."
   ]
  },
  {
   "cell_type": "code",
   "execution_count": 10,
   "id": "fea57227-4a05-4f96-b97f-03046a424ef0",
   "metadata": {},
   "outputs": [
    {
     "name": "stderr",
     "output_type": "stream",
     "text": [
      "02:46:00 INFO:Testing data shape => (38405, 26)\n"
     ]
    }
   ],
   "source": [
    "import pandas as pd\n",
    "\n",
    "test_file_nm = 'Test.xlsb'\n",
    "test_df = pd.read_excel(io=f'data/{test_file_nm}')\n",
    "logger.info(f'Testing data shape => {test_df.shape}')"
   ]
  },
  {
   "cell_type": "code",
   "execution_count": 12,
   "id": "dfd892ab-d7c3-4d01-bbbe-048730f82612",
   "metadata": {
    "tags": []
   },
   "outputs": [],
   "source": [
    "rt_pred = predictor.predict(\n",
    "    test_df\n",
    ")"
   ]
  },
  {
   "cell_type": "markdown",
   "id": "6fa4974c-a05d-4a47-b7e9-bfdb3b6abe9a",
   "metadata": {},
   "source": [
    "Below cell is just to check the output."
   ]
  },
  {
   "cell_type": "code",
   "execution_count": 13,
   "id": "a58f9fce-1abe-4217-8875-8115fe609c17",
   "metadata": {
    "tags": []
   },
   "outputs": [
    {
     "name": "stdout",
     "output_type": "stream",
     "text": [
      "              precision    recall  f1-score   support\n",
      "\n",
      "           0       1.00      1.00      1.00     38314\n",
      "           1       0.07      0.11      0.08        91\n",
      "\n",
      "    accuracy                           0.99     38405\n",
      "   macro avg       0.53      0.55      0.54     38405\n",
      "weighted avg       1.00      0.99      1.00     38405\n",
      "\n"
     ]
    }
   ],
   "source": [
    "from sklearn.metrics import classification_report\n",
    "\n",
    "print(\n",
    "    classification_report(rt_pred['predictions'], test_df['MARKER'])\n",
    ")"
   ]
  },
  {
   "cell_type": "markdown",
   "id": "96b84d4d-689a-4c54-a230-569736322b77",
   "metadata": {},
   "source": [
    "## Delete model and endpoint\n",
    "---\n",
    "\n",
    "If we are no longer used the endpoint, we should delete it."
   ]
  },
  {
   "cell_type": "code",
   "execution_count": 14,
   "id": "9bafbbbe-6b04-400b-bf9f-064f38fa5961",
   "metadata": {
    "tags": []
   },
   "outputs": [
    {
     "name": "stderr",
     "output_type": "stream",
     "text": [
      "02:47:22 INFO:Deleting model with name: sagemaker-xgboost-2023-08-03-14-43-12-245\n",
      "02:47:22 INFO:Deleting endpoint configuration with name: sagemaker-xgboost-2023-08-03-14-43-12-889\n",
      "02:47:22 INFO:Deleting endpoint with name: sagemaker-xgboost-2023-08-03-14-43-12-889\n"
     ]
    }
   ],
   "source": [
    "predictor.delete_model()\n",
    "predictor.delete_endpoint()"
   ]
  }
 ],
 "metadata": {
  "availableInstances": [
   {
    "_defaultOrder": 0,
    "_isFastLaunch": true,
    "category": "General purpose",
    "gpuNum": 0,
    "hideHardwareSpecs": false,
    "memoryGiB": 4,
    "name": "ml.t3.medium",
    "vcpuNum": 2
   },
   {
    "_defaultOrder": 1,
    "_isFastLaunch": false,
    "category": "General purpose",
    "gpuNum": 0,
    "hideHardwareSpecs": false,
    "memoryGiB": 8,
    "name": "ml.t3.large",
    "vcpuNum": 2
   },
   {
    "_defaultOrder": 2,
    "_isFastLaunch": false,
    "category": "General purpose",
    "gpuNum": 0,
    "hideHardwareSpecs": false,
    "memoryGiB": 16,
    "name": "ml.t3.xlarge",
    "vcpuNum": 4
   },
   {
    "_defaultOrder": 3,
    "_isFastLaunch": false,
    "category": "General purpose",
    "gpuNum": 0,
    "hideHardwareSpecs": false,
    "memoryGiB": 32,
    "name": "ml.t3.2xlarge",
    "vcpuNum": 8
   },
   {
    "_defaultOrder": 4,
    "_isFastLaunch": true,
    "category": "General purpose",
    "gpuNum": 0,
    "hideHardwareSpecs": false,
    "memoryGiB": 8,
    "name": "ml.m5.large",
    "vcpuNum": 2
   },
   {
    "_defaultOrder": 5,
    "_isFastLaunch": false,
    "category": "General purpose",
    "gpuNum": 0,
    "hideHardwareSpecs": false,
    "memoryGiB": 16,
    "name": "ml.m5.xlarge",
    "vcpuNum": 4
   },
   {
    "_defaultOrder": 6,
    "_isFastLaunch": false,
    "category": "General purpose",
    "gpuNum": 0,
    "hideHardwareSpecs": false,
    "memoryGiB": 32,
    "name": "ml.m5.2xlarge",
    "vcpuNum": 8
   },
   {
    "_defaultOrder": 7,
    "_isFastLaunch": false,
    "category": "General purpose",
    "gpuNum": 0,
    "hideHardwareSpecs": false,
    "memoryGiB": 64,
    "name": "ml.m5.4xlarge",
    "vcpuNum": 16
   },
   {
    "_defaultOrder": 8,
    "_isFastLaunch": false,
    "category": "General purpose",
    "gpuNum": 0,
    "hideHardwareSpecs": false,
    "memoryGiB": 128,
    "name": "ml.m5.8xlarge",
    "vcpuNum": 32
   },
   {
    "_defaultOrder": 9,
    "_isFastLaunch": false,
    "category": "General purpose",
    "gpuNum": 0,
    "hideHardwareSpecs": false,
    "memoryGiB": 192,
    "name": "ml.m5.12xlarge",
    "vcpuNum": 48
   },
   {
    "_defaultOrder": 10,
    "_isFastLaunch": false,
    "category": "General purpose",
    "gpuNum": 0,
    "hideHardwareSpecs": false,
    "memoryGiB": 256,
    "name": "ml.m5.16xlarge",
    "vcpuNum": 64
   },
   {
    "_defaultOrder": 11,
    "_isFastLaunch": false,
    "category": "General purpose",
    "gpuNum": 0,
    "hideHardwareSpecs": false,
    "memoryGiB": 384,
    "name": "ml.m5.24xlarge",
    "vcpuNum": 96
   },
   {
    "_defaultOrder": 12,
    "_isFastLaunch": false,
    "category": "General purpose",
    "gpuNum": 0,
    "hideHardwareSpecs": false,
    "memoryGiB": 8,
    "name": "ml.m5d.large",
    "vcpuNum": 2
   },
   {
    "_defaultOrder": 13,
    "_isFastLaunch": false,
    "category": "General purpose",
    "gpuNum": 0,
    "hideHardwareSpecs": false,
    "memoryGiB": 16,
    "name": "ml.m5d.xlarge",
    "vcpuNum": 4
   },
   {
    "_defaultOrder": 14,
    "_isFastLaunch": false,
    "category": "General purpose",
    "gpuNum": 0,
    "hideHardwareSpecs": false,
    "memoryGiB": 32,
    "name": "ml.m5d.2xlarge",
    "vcpuNum": 8
   },
   {
    "_defaultOrder": 15,
    "_isFastLaunch": false,
    "category": "General purpose",
    "gpuNum": 0,
    "hideHardwareSpecs": false,
    "memoryGiB": 64,
    "name": "ml.m5d.4xlarge",
    "vcpuNum": 16
   },
   {
    "_defaultOrder": 16,
    "_isFastLaunch": false,
    "category": "General purpose",
    "gpuNum": 0,
    "hideHardwareSpecs": false,
    "memoryGiB": 128,
    "name": "ml.m5d.8xlarge",
    "vcpuNum": 32
   },
   {
    "_defaultOrder": 17,
    "_isFastLaunch": false,
    "category": "General purpose",
    "gpuNum": 0,
    "hideHardwareSpecs": false,
    "memoryGiB": 192,
    "name": "ml.m5d.12xlarge",
    "vcpuNum": 48
   },
   {
    "_defaultOrder": 18,
    "_isFastLaunch": false,
    "category": "General purpose",
    "gpuNum": 0,
    "hideHardwareSpecs": false,
    "memoryGiB": 256,
    "name": "ml.m5d.16xlarge",
    "vcpuNum": 64
   },
   {
    "_defaultOrder": 19,
    "_isFastLaunch": false,
    "category": "General purpose",
    "gpuNum": 0,
    "hideHardwareSpecs": false,
    "memoryGiB": 384,
    "name": "ml.m5d.24xlarge",
    "vcpuNum": 96
   },
   {
    "_defaultOrder": 20,
    "_isFastLaunch": false,
    "category": "General purpose",
    "gpuNum": 0,
    "hideHardwareSpecs": true,
    "memoryGiB": 0,
    "name": "ml.geospatial.interactive",
    "supportedImageNames": [
     "sagemaker-geospatial-v1-0"
    ],
    "vcpuNum": 0
   },
   {
    "_defaultOrder": 21,
    "_isFastLaunch": true,
    "category": "Compute optimized",
    "gpuNum": 0,
    "hideHardwareSpecs": false,
    "memoryGiB": 4,
    "name": "ml.c5.large",
    "vcpuNum": 2
   },
   {
    "_defaultOrder": 22,
    "_isFastLaunch": false,
    "category": "Compute optimized",
    "gpuNum": 0,
    "hideHardwareSpecs": false,
    "memoryGiB": 8,
    "name": "ml.c5.xlarge",
    "vcpuNum": 4
   },
   {
    "_defaultOrder": 23,
    "_isFastLaunch": false,
    "category": "Compute optimized",
    "gpuNum": 0,
    "hideHardwareSpecs": false,
    "memoryGiB": 16,
    "name": "ml.c5.2xlarge",
    "vcpuNum": 8
   },
   {
    "_defaultOrder": 24,
    "_isFastLaunch": false,
    "category": "Compute optimized",
    "gpuNum": 0,
    "hideHardwareSpecs": false,
    "memoryGiB": 32,
    "name": "ml.c5.4xlarge",
    "vcpuNum": 16
   },
   {
    "_defaultOrder": 25,
    "_isFastLaunch": false,
    "category": "Compute optimized",
    "gpuNum": 0,
    "hideHardwareSpecs": false,
    "memoryGiB": 72,
    "name": "ml.c5.9xlarge",
    "vcpuNum": 36
   },
   {
    "_defaultOrder": 26,
    "_isFastLaunch": false,
    "category": "Compute optimized",
    "gpuNum": 0,
    "hideHardwareSpecs": false,
    "memoryGiB": 96,
    "name": "ml.c5.12xlarge",
    "vcpuNum": 48
   },
   {
    "_defaultOrder": 27,
    "_isFastLaunch": false,
    "category": "Compute optimized",
    "gpuNum": 0,
    "hideHardwareSpecs": false,
    "memoryGiB": 144,
    "name": "ml.c5.18xlarge",
    "vcpuNum": 72
   },
   {
    "_defaultOrder": 28,
    "_isFastLaunch": false,
    "category": "Compute optimized",
    "gpuNum": 0,
    "hideHardwareSpecs": false,
    "memoryGiB": 192,
    "name": "ml.c5.24xlarge",
    "vcpuNum": 96
   },
   {
    "_defaultOrder": 29,
    "_isFastLaunch": true,
    "category": "Accelerated computing",
    "gpuNum": 1,
    "hideHardwareSpecs": false,
    "memoryGiB": 16,
    "name": "ml.g4dn.xlarge",
    "vcpuNum": 4
   },
   {
    "_defaultOrder": 30,
    "_isFastLaunch": false,
    "category": "Accelerated computing",
    "gpuNum": 1,
    "hideHardwareSpecs": false,
    "memoryGiB": 32,
    "name": "ml.g4dn.2xlarge",
    "vcpuNum": 8
   },
   {
    "_defaultOrder": 31,
    "_isFastLaunch": false,
    "category": "Accelerated computing",
    "gpuNum": 1,
    "hideHardwareSpecs": false,
    "memoryGiB": 64,
    "name": "ml.g4dn.4xlarge",
    "vcpuNum": 16
   },
   {
    "_defaultOrder": 32,
    "_isFastLaunch": false,
    "category": "Accelerated computing",
    "gpuNum": 1,
    "hideHardwareSpecs": false,
    "memoryGiB": 128,
    "name": "ml.g4dn.8xlarge",
    "vcpuNum": 32
   },
   {
    "_defaultOrder": 33,
    "_isFastLaunch": false,
    "category": "Accelerated computing",
    "gpuNum": 4,
    "hideHardwareSpecs": false,
    "memoryGiB": 192,
    "name": "ml.g4dn.12xlarge",
    "vcpuNum": 48
   },
   {
    "_defaultOrder": 34,
    "_isFastLaunch": false,
    "category": "Accelerated computing",
    "gpuNum": 1,
    "hideHardwareSpecs": false,
    "memoryGiB": 256,
    "name": "ml.g4dn.16xlarge",
    "vcpuNum": 64
   },
   {
    "_defaultOrder": 35,
    "_isFastLaunch": false,
    "category": "Accelerated computing",
    "gpuNum": 1,
    "hideHardwareSpecs": false,
    "memoryGiB": 61,
    "name": "ml.p3.2xlarge",
    "vcpuNum": 8
   },
   {
    "_defaultOrder": 36,
    "_isFastLaunch": false,
    "category": "Accelerated computing",
    "gpuNum": 4,
    "hideHardwareSpecs": false,
    "memoryGiB": 244,
    "name": "ml.p3.8xlarge",
    "vcpuNum": 32
   },
   {
    "_defaultOrder": 37,
    "_isFastLaunch": false,
    "category": "Accelerated computing",
    "gpuNum": 8,
    "hideHardwareSpecs": false,
    "memoryGiB": 488,
    "name": "ml.p3.16xlarge",
    "vcpuNum": 64
   },
   {
    "_defaultOrder": 38,
    "_isFastLaunch": false,
    "category": "Accelerated computing",
    "gpuNum": 8,
    "hideHardwareSpecs": false,
    "memoryGiB": 768,
    "name": "ml.p3dn.24xlarge",
    "vcpuNum": 96
   },
   {
    "_defaultOrder": 39,
    "_isFastLaunch": false,
    "category": "Memory Optimized",
    "gpuNum": 0,
    "hideHardwareSpecs": false,
    "memoryGiB": 16,
    "name": "ml.r5.large",
    "vcpuNum": 2
   },
   {
    "_defaultOrder": 40,
    "_isFastLaunch": false,
    "category": "Memory Optimized",
    "gpuNum": 0,
    "hideHardwareSpecs": false,
    "memoryGiB": 32,
    "name": "ml.r5.xlarge",
    "vcpuNum": 4
   },
   {
    "_defaultOrder": 41,
    "_isFastLaunch": false,
    "category": "Memory Optimized",
    "gpuNum": 0,
    "hideHardwareSpecs": false,
    "memoryGiB": 64,
    "name": "ml.r5.2xlarge",
    "vcpuNum": 8
   },
   {
    "_defaultOrder": 42,
    "_isFastLaunch": false,
    "category": "Memory Optimized",
    "gpuNum": 0,
    "hideHardwareSpecs": false,
    "memoryGiB": 128,
    "name": "ml.r5.4xlarge",
    "vcpuNum": 16
   },
   {
    "_defaultOrder": 43,
    "_isFastLaunch": false,
    "category": "Memory Optimized",
    "gpuNum": 0,
    "hideHardwareSpecs": false,
    "memoryGiB": 256,
    "name": "ml.r5.8xlarge",
    "vcpuNum": 32
   },
   {
    "_defaultOrder": 44,
    "_isFastLaunch": false,
    "category": "Memory Optimized",
    "gpuNum": 0,
    "hideHardwareSpecs": false,
    "memoryGiB": 384,
    "name": "ml.r5.12xlarge",
    "vcpuNum": 48
   },
   {
    "_defaultOrder": 45,
    "_isFastLaunch": false,
    "category": "Memory Optimized",
    "gpuNum": 0,
    "hideHardwareSpecs": false,
    "memoryGiB": 512,
    "name": "ml.r5.16xlarge",
    "vcpuNum": 64
   },
   {
    "_defaultOrder": 46,
    "_isFastLaunch": false,
    "category": "Memory Optimized",
    "gpuNum": 0,
    "hideHardwareSpecs": false,
    "memoryGiB": 768,
    "name": "ml.r5.24xlarge",
    "vcpuNum": 96
   },
   {
    "_defaultOrder": 47,
    "_isFastLaunch": false,
    "category": "Accelerated computing",
    "gpuNum": 1,
    "hideHardwareSpecs": false,
    "memoryGiB": 16,
    "name": "ml.g5.xlarge",
    "vcpuNum": 4
   },
   {
    "_defaultOrder": 48,
    "_isFastLaunch": false,
    "category": "Accelerated computing",
    "gpuNum": 1,
    "hideHardwareSpecs": false,
    "memoryGiB": 32,
    "name": "ml.g5.2xlarge",
    "vcpuNum": 8
   },
   {
    "_defaultOrder": 49,
    "_isFastLaunch": false,
    "category": "Accelerated computing",
    "gpuNum": 1,
    "hideHardwareSpecs": false,
    "memoryGiB": 64,
    "name": "ml.g5.4xlarge",
    "vcpuNum": 16
   },
   {
    "_defaultOrder": 50,
    "_isFastLaunch": false,
    "category": "Accelerated computing",
    "gpuNum": 1,
    "hideHardwareSpecs": false,
    "memoryGiB": 128,
    "name": "ml.g5.8xlarge",
    "vcpuNum": 32
   },
   {
    "_defaultOrder": 51,
    "_isFastLaunch": false,
    "category": "Accelerated computing",
    "gpuNum": 1,
    "hideHardwareSpecs": false,
    "memoryGiB": 256,
    "name": "ml.g5.16xlarge",
    "vcpuNum": 64
   },
   {
    "_defaultOrder": 52,
    "_isFastLaunch": false,
    "category": "Accelerated computing",
    "gpuNum": 4,
    "hideHardwareSpecs": false,
    "memoryGiB": 192,
    "name": "ml.g5.12xlarge",
    "vcpuNum": 48
   },
   {
    "_defaultOrder": 53,
    "_isFastLaunch": false,
    "category": "Accelerated computing",
    "gpuNum": 4,
    "hideHardwareSpecs": false,
    "memoryGiB": 384,
    "name": "ml.g5.24xlarge",
    "vcpuNum": 96
   },
   {
    "_defaultOrder": 54,
    "_isFastLaunch": false,
    "category": "Accelerated computing",
    "gpuNum": 8,
    "hideHardwareSpecs": false,
    "memoryGiB": 768,
    "name": "ml.g5.48xlarge",
    "vcpuNum": 192
   },
   {
    "_defaultOrder": 55,
    "_isFastLaunch": false,
    "category": "Accelerated computing",
    "gpuNum": 8,
    "hideHardwareSpecs": false,
    "memoryGiB": 1152,
    "name": "ml.p4d.24xlarge",
    "vcpuNum": 96
   },
   {
    "_defaultOrder": 56,
    "_isFastLaunch": false,
    "category": "Accelerated computing",
    "gpuNum": 8,
    "hideHardwareSpecs": false,
    "memoryGiB": 1152,
    "name": "ml.p4de.24xlarge",
    "vcpuNum": 96
   }
  ],
  "instance_type": "ml.t3.medium",
  "kernelspec": {
   "display_name": "Python 3 (Data Science 2.0)",
   "language": "python",
   "name": "python3__SAGEMAKER_INTERNAL__arn:aws:sagemaker:us-west-2:236514542706:image/sagemaker-data-science-38"
  },
  "language_info": {
   "codemirror_mode": {
    "name": "ipython",
    "version": 3
   },
   "file_extension": ".py",
   "mimetype": "text/x-python",
   "name": "python",
   "nbconvert_exporter": "python",
   "pygments_lexer": "ipython3",
   "version": "3.8.13"
  }
 },
 "nbformat": 4,
 "nbformat_minor": 5
}
